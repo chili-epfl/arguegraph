{
 "cells": [
  {
   "cell_type": "markdown",
   "metadata": {},
   "source": [
    "# Argue Graph\n",
    "\n",
    "## Calculate Matches for In-Person and Online Students\n",
    "\n",
    "JDPLS demo students should fill in [this poll](https://forms.gle/FXN7JC3FMPhhcUVN7)."
   ]
  },
  {
   "cell_type": "markdown",
   "metadata": {},
   "source": [
    "### JDPLS Demo Students\n",
    "Load in data and calculate pairings that maximize distance."
   ]
  },
  {
   "cell_type": "code",
   "execution_count": null,
   "metadata": {},
   "outputs": [],
   "source": [
    "import util \n",
    "\n",
    "df = util.load_worksheet(url=util.DEMO_URL)\n",
    "distances = util.calculate_distances(df)\n",
    "graph = util.construct_graph(distances)"
   ]
  },
  {
   "cell_type": "code",
   "execution_count": null,
   "metadata": {},
   "outputs": [],
   "source": [
    "util.get_distance_plot(df, distances, graph)"
   ]
  },
  {
   "cell_type": "code",
   "execution_count": null,
   "metadata": {},
   "outputs": [],
   "source": [
    "mean_pri, sd_pri = util.get_max_distance_stats(df, distances, graph)\n",
    "print(f'PRE: Mean for in-person students is {mean_pri:.2f} and standard deviation is {sd_pri:.2f}.')"
   ]
  },
  {
   "cell_type": "code",
   "execution_count": null,
   "metadata": {},
   "outputs": [],
   "source": [
    "pairs = util.get_max_distance_pairs(df, distances, graph)\n",
    "for p in pairs:\n",
    "    print(f'Pair {p[0]} with {p[1]}')"
   ]
  }
 ],
 "metadata": {
  "kernelspec": {
   "display_name": "Python 3 (ipykernel)",
   "language": "python",
   "name": "python3"
  },
  "language_info": {
   "codemirror_mode": {
    "name": "ipython",
    "version": 3
   },
   "file_extension": ".py",
   "mimetype": "text/x-python",
   "name": "python",
   "nbconvert_exporter": "python",
   "pygments_lexer": "ipython3",
   "version": "3.11.6"
  },
  "vscode": {
   "interpreter": {
    "hash": "10f855eeeb2ef9c3da2620d7b4e17d02b412f0ef0d073aff49841a941628c765"
   }
  }
 },
 "nbformat": 4,
 "nbformat_minor": 4
}

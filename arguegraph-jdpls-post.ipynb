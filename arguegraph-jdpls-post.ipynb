{
 "cells": [
  {
   "cell_type": "markdown",
   "metadata": {},
   "source": [
    "# ArgueGraph (Post-Discussion)\n",
    "\n",
    "## Calculate Distances After Discussion\n",
    "\n",
    "Students should fill in [this poll](https://forms.gle/wupgZWtVFi4jL3xa8)."
   ]
  },
  {
   "cell_type": "code",
   "execution_count": null,
   "metadata": {},
   "outputs": [],
   "source": [
    "import util\n",
    "df = util.load_worksheet(url=util.POST_INPERSON_URL)\n",
    "distances = util.calculate_distances(df)\n",
    "graph = util.construct_graph(distances)"
   ]
  },
  {
   "cell_type": "code",
   "execution_count": null,
   "metadata": {},
   "outputs": [],
   "source": [
    "util.get_distance_plot(df, distances, graph)"
   ]
  },
  {
   "cell_type": "code",
   "execution_count": null,
   "metadata": {},
   "outputs": [],
   "source": [
    "df = util.load_worksheet(url=util.PRE_INPERSON_URL)\n",
    "distances = util.calculate_distances(df)\n",
    "graph = util.construct_graph(distances)\n",
    "\n",
    "mean_pre, sd_pre = util.get_max_distance_stats(df, distances, graph)\n",
    "print(f'PRE: Mean for in-person students is {mean_pre:.2f} and standard deviation is {sd_pre:.2f}.')\n",
    "\n",
    "df = util.load_worksheet(url=util.POST_INPERSON_URL)\n",
    "distances = util.calculate_distances(df)\n",
    "graph = util.construct_graph(distances)\n",
    "\n",
    "mean_post, sd_post = util.get_max_distance_stats(df, distances, graph)\n",
    "print(f'POST: Mean for in-person students is {mean_post:.2f} and standard deviation is {sd_post:.2f}.')"
   ]
  },
  {
   "cell_type": "markdown",
   "metadata": {},
   "source": [
    "## Plot Distances Before and After Discussion"
   ]
  },
  {
   "cell_type": "code",
   "execution_count": null,
   "metadata": {},
   "outputs": [],
   "source": [
    "import matplotlib.pyplot as plt\n",
    "  \n",
    "# making a simple plot\n",
    "x = [1, 2]\n",
    "means = [mean_pre, mean_post]\n",
    "  \n",
    "fig, ax = plt.subplots()\n",
    "\n",
    "# Plot scatter here\n",
    "ax.bar(x, means)\n",
    "  \n",
    "sd = [sd_pre, sd_post]\n",
    "  \n",
    "ax.errorbar(x, means, yerr=sd, fmt=\"o\", color=\"black\")\n",
    "\n",
    "ax.set_ylabel('Distance')\n",
    "ax.set_title(\"Mean and Standard Deviation of Maximum Pairwise Distances\")\n",
    "ax.set_xticks(x, [\"Pre\", \"Post\"])\n",
    "\n",
    "plt.xticks(rotation=45, ha='right')\n",
    "plt.show()"
   ]
  }
 ],
 "metadata": {
  "kernelspec": {
   "display_name": "Python 3 (ipykernel)",
   "language": "python",
   "name": "python3"
  },
  "language_info": {
   "codemirror_mode": {
    "name": "ipython",
    "version": 3
   },
   "file_extension": ".py",
   "mimetype": "text/x-python",
   "name": "python",
   "nbconvert_exporter": "python",
   "pygments_lexer": "ipython3",
   "version": "3.11.6"
  },
  "vscode": {
   "interpreter": {
    "hash": "10f855eeeb2ef9c3da2620d7b4e17d02b412f0ef0d073aff49841a941628c765"
   }
  }
 },
 "nbformat": 4,
 "nbformat_minor": 4
}

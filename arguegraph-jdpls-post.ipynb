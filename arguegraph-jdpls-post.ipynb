{
 "cells": [
  {
   "cell_type": "markdown",
   "metadata": {},
   "source": [
    "# ArgueGraph (Post-Discussion)\n",
    "\n",
    "## Visualize Answers After Discussion\n",
    "\n",
    "Students should fill in [this poll](https://forms.gle/v9omKFBRGHhCABiS8)."
   ]
  },
  {
   "cell_type": "code",
   "execution_count": 1,
   "metadata": {
    "execution": {
     "iopub.execute_input": "2024-10-21T19:37:05.972470Z",
     "iopub.status.busy": "2024-10-21T19:37:05.972168Z",
     "iopub.status.idle": "2024-10-21T19:37:13.504847Z",
     "shell.execute_reply": "2024-10-21T19:37:13.503133Z",
     "shell.execute_reply.started": "2024-10-21T19:37:05.972402Z"
    }
   },
   "outputs": [],
   "source": [
    "import util\n",
    "pre_df = util.load_worksheet(url=util.PRE_INPERSON_URL)\n",
    "pre_distances = util.calculate_distances(pre_df)\n",
    "pre_graph = util.construct_graph(pre_distances)\n",
    "\n",
    "post_df = util.load_worksheet(url=util.POST_INPERSON_URL)\n",
    "post_distances = util.calculate_distances(post_df)\n",
    "# post_graph = util.construct_graph(post_distances)"
   ]
  },
  {
   "cell_type": "code",
   "execution_count": 2,
   "metadata": {
    "execution": {
     "iopub.execute_input": "2024-10-21T19:37:13.507028Z",
     "iopub.status.busy": "2024-10-21T19:37:13.506376Z",
     "iopub.status.idle": "2024-10-21T19:37:13.797305Z",
     "shell.execute_reply": "2024-10-21T19:37:13.795587Z",
     "shell.execute_reply.started": "2024-10-21T19:37:13.506993Z"
    }
   },
   "outputs": [
    {
     "data": {
      "text/html": [
       "\n",
       "<style>\n",
       "  #altair-viz-4d9fdbfe5662473aac4fef4366ba2a2f.vega-embed {\n",
       "    width: 100%;\n",
       "    display: flex;\n",
       "  }\n",
       "\n",
       "  #altair-viz-4d9fdbfe5662473aac4fef4366ba2a2f.vega-embed details,\n",
       "  #altair-viz-4d9fdbfe5662473aac4fef4366ba2a2f.vega-embed details summary {\n",
       "    position: relative;\n",
       "  }\n",
       "</style>\n",
       "<div id=\"altair-viz-4d9fdbfe5662473aac4fef4366ba2a2f\"></div>\n",
       "<script type=\"text/javascript\">\n",
       "  var VEGA_DEBUG = (typeof VEGA_DEBUG == \"undefined\") ? {} : VEGA_DEBUG;\n",
       "  (function(spec, embedOpt){\n",
       "    let outputDiv = document.currentScript.previousElementSibling;\n",
       "    if (outputDiv.id !== \"altair-viz-4d9fdbfe5662473aac4fef4366ba2a2f\") {\n",
       "      outputDiv = document.getElementById(\"altair-viz-4d9fdbfe5662473aac4fef4366ba2a2f\");\n",
       "    }\n",
       "    const paths = {\n",
       "      \"vega\": \"https://cdn.jsdelivr.net/npm/vega@5?noext\",\n",
       "      \"vega-lib\": \"https://cdn.jsdelivr.net/npm/vega-lib?noext\",\n",
       "      \"vega-lite\": \"https://cdn.jsdelivr.net/npm/vega-lite@5.20.1?noext\",\n",
       "      \"vega-embed\": \"https://cdn.jsdelivr.net/npm/vega-embed@6?noext\",\n",
       "    };\n",
       "\n",
       "    function maybeLoadScript(lib, version) {\n",
       "      var key = `${lib.replace(\"-\", \"\")}_version`;\n",
       "      return (VEGA_DEBUG[key] == version) ?\n",
       "        Promise.resolve(paths[lib]) :\n",
       "        new Promise(function(resolve, reject) {\n",
       "          var s = document.createElement('script');\n",
       "          document.getElementsByTagName(\"head\")[0].appendChild(s);\n",
       "          s.async = true;\n",
       "          s.onload = () => {\n",
       "            VEGA_DEBUG[key] = version;\n",
       "            return resolve(paths[lib]);\n",
       "          };\n",
       "          s.onerror = () => reject(`Error loading script: ${paths[lib]}`);\n",
       "          s.src = paths[lib];\n",
       "        });\n",
       "    }\n",
       "\n",
       "    function showError(err) {\n",
       "      outputDiv.innerHTML = `<div class=\"error\" style=\"color:red;\">${err}</div>`;\n",
       "      throw err;\n",
       "    }\n",
       "\n",
       "    function displayChart(vegaEmbed) {\n",
       "      vegaEmbed(outputDiv, spec, embedOpt)\n",
       "        .catch(err => showError(`Javascript Error: ${err.message}<br>This usually means there's a typo in your chart specification. See the javascript console for the full traceback.`));\n",
       "    }\n",
       "\n",
       "    if(typeof define === \"function\" && define.amd) {\n",
       "      requirejs.config({paths});\n",
       "      require([\"vega-embed\"], displayChart, err => showError(`Error loading script: ${err.message}`));\n",
       "    } else {\n",
       "      maybeLoadScript(\"vega\", \"5\")\n",
       "        .then(() => maybeLoadScript(\"vega-lite\", \"5.20.1\"))\n",
       "        .then(() => maybeLoadScript(\"vega-embed\", \"6\"))\n",
       "        .catch(showError)\n",
       "        .then(() => displayChart(vegaEmbed));\n",
       "    }\n",
       "  })({\"config\": {\"view\": {\"continuousWidth\": 300, \"continuousHeight\": 300}, \"axis\": {\"labelFontSize\": 14, \"titleFontSize\": 14}, \"legend\": {\"labelFontSize\": 14, \"titleFontSize\": 14}, \"text\": {\"fontSize\": 14}}, \"layer\": [{\"data\": {\"name\": \"data-0adf38e2ec7e3cb506eb45b5f153f511\"}, \"mark\": {\"type\": \"circle\", \"size\": 100}, \"encoding\": {\"color\": {\"field\": \"group\", \"type\": \"nominal\"}, \"tooltip\": [{\"field\": \"Email Address\", \"type\": \"nominal\"}], \"x\": {\"field\": \"x_j\", \"scale\": {\"domain\": [-8, 8]}, \"title\": \"Individual cognition \\u27fa Social cognition\", \"type\": \"quantitative\"}, \"y\": {\"field\": \"y_j\", \"scale\": {\"domain\": [-8, 8]}, \"title\": \"As a skill \\u27fa As a method\", \"type\": \"quantitative\"}}, \"name\": \"view_1\"}, {\"data\": {\"name\": \"data-0adf38e2ec7e3cb506eb45b5f153f511\"}, \"mark\": {\"type\": \"line\"}, \"encoding\": {\"color\": {\"field\": \"group\", \"type\": \"nominal\"}, \"detail\": {\"field\": \"group\", \"type\": \"quantitative\"}, \"tooltip\": [{\"field\": \"Email Address\", \"type\": \"nominal\"}], \"x\": {\"field\": \"x_j\", \"type\": \"quantitative\"}, \"y\": {\"field\": \"y_j\", \"type\": \"quantitative\"}}}, {\"data\": {\"name\": \"data-340addbf9cb74a9731a7293c6016035a\"}, \"mark\": {\"type\": \"point\", \"size\": 200}, \"encoding\": {\"color\": {\"field\": \"group\", \"type\": \"nominal\"}, \"shape\": {\"value\": \"cross\"}, \"tooltip\": [{\"field\": \"Email Address\", \"type\": \"nominal\"}], \"x\": {\"field\": \"x_j\", \"scale\": {\"domain\": [-8, 8]}, \"type\": \"quantitative\"}, \"y\": {\"field\": \"y_j\", \"scale\": {\"domain\": [-8, 8]}, \"type\": \"quantitative\"}}}], \"height\": 600, \"params\": [{\"name\": \"param_2\", \"select\": {\"type\": \"interval\", \"encodings\": [\"x\", \"y\"]}, \"bind\": \"scales\", \"views\": [\"view_1\"]}], \"width\": 600, \"$schema\": \"https://vega.github.io/schema/vega-lite/v5.20.1.json\", \"datasets\": {\"data-0adf38e2ec7e3cb506eb45b5f153f511\": [{\"index\": 0, \"Timestamp\": \"10/21/2024 21:33:48\", \"Email Address\": \"1@1.com\", \"If you were a school teacher, would you ask students to work in teams? Pick what you might decide and why.\": \"Yes, it might force them to deepen the contents of my lecture\", \"If you would decide anyway to make teams, which size of the teams would you choose?\": \"Teams of 3, because the third can kind of arbitrate the disagreements between the two other ones, so the team would work better\", \"Let\\u2019s say that you finally decide to make teams of 2, what would be the best team composition?\": \"Two students with different viewpoints so that they produce multiple solutions\", \"If during their teamwork, three students start to argue loudly what would you do?\": \"Ask them to elaborate a list of pros and cons and connect it to what was taught in the last lecture\", \"team_xy\": [2, -2], \"size_xy\": [-1, -1], \"composition_xy\": [1, -2], \"argue_xy\": [0, 2], \"team_x\": 2, \"size_x\": -1, \"composition_x\": 1, \"argue_x\": 0, \"team_y\": -2, \"size_y\": -1, \"composition_y\": -2, \"argue_y\": 2, \"x\": 2, \"y\": -3, \"xi\": \"2-3\", \"x_j\": 1.886033260139342, \"y_j\": -2.686466985148374, \"uid\": 0, \"group\": 0.0}, {\"index\": 1, \"Timestamp\": \"10/21/2024 21:34:00\", \"Email Address\": \"4@4.com\", \"If you were a school teacher, would you ask students to work in teams? Pick what you might decide and why.\": \"No, teamwork takes too much time; I have to move faster in the curriculum\", \"If you would decide anyway to make teams, which size of the teams would you choose?\": \"Teams of 10, because that\\u2019s often the size of the teams they will join later on in the workplace\", \"Let\\u2019s say that you finally decide to make teams of 2, what would be the best team composition?\": \"Two students with different levels, so that one develops the skills of helping other students\", \"If during their teamwork, three students start to argue loudly what would you do?\": \"Nothing, it may force them to deepen their understanding of the task\", \"team_xy\": [-2, 2], \"size_xy\": [3, -2], \"composition_xy\": [2, -2], \"argue_xy\": [2, 2], \"team_x\": -2, \"size_x\": 3, \"composition_x\": 2, \"argue_x\": 2, \"team_y\": 2, \"size_y\": -2, \"composition_y\": -2, \"argue_y\": 2, \"x\": 5, \"y\": 0, \"xi\": \"50\", \"x_j\": 5.1148733746377975, \"y_j\": -0.15560748256971857, \"uid\": 1, \"group\": 0.0}], \"data-340addbf9cb74a9731a7293c6016035a\": [{\"index\": 0, \"Timestamp\": \"10/21/2024 21:35:41\", \"Email Address\": \"1@1.com\", \"If you were a school teacher, would you ask students to work in teams? Pick what you might decide and why.\": \"Yes, even if they won\\u2019t necessarily learn more, they might at least learn to work together\", \"If you would decide anyway to make teams, which size of the teams would you choose?\": \"Teams of 5, so that I can detect which students take leadership\", \"Let\\u2019s say that you finally decide to make teams of 2, what would be the best team composition?\": \"Two students with a different backgrounds, so that they get used to handle diversity\", \"If during their teamwork, three students start to argue loudly what would you do?\": \"Discuss with them to see if some opinions are scientifically incorrect\", \"team_xy\": [2, -2], \"size_xy\": [-2, -2], \"composition_xy\": [2, -2], \"argue_xy\": [-3, 2], \"team_x\": 2, \"size_x\": -2, \"composition_x\": 2, \"argue_x\": -3, \"team_y\": -2, \"size_y\": -2, \"composition_y\": -2, \"argue_y\": 2, \"x\": -1, \"y\": -4, \"xi\": \"-1-4\", \"x_j\": -1.2081159497355631, \"y_j\": -3.9913293536700145, \"uid\": 0, \"group\": 0.0}]}}, {\"mode\": \"vega-lite\"});\n",
       "</script>"
      ],
      "text/plain": [
       "alt.LayerChart(...)"
      ]
     },
     "execution_count": 2,
     "metadata": {},
     "output_type": "execute_result"
    }
   ],
   "source": [
    "util.get_post_distance_plot(pre_df, pre_distances, pre_graph, post_df)"
   ]
  },
  {
   "cell_type": "code",
   "execution_count": null,
   "metadata": {},
   "outputs": [],
   "source": [
    "# df = util.load_worksheet(url=util.PRE_INPERSON_URL)\n",
    "# distances = util.calculate_distances(df)\n",
    "# graph = util.construct_graph(distances)\n",
    "\n",
    "# mean_pre, sd_pre = util.get_max_distance_stats(df, distances, graph)\n",
    "# print(f'PRE: Mean for in-person students is {mean_pre:.2f} and standard deviation is {sd_pre:.2f}.')\n",
    "\n",
    "# df = util.load_worksheet(url=util.POST_INPERSON_URL)\n",
    "# distances = util.calculate_distances(df)\n",
    "# graph = util.construct_graph(distances)\n",
    "\n",
    "# mean_post, sd_post = util.get_max_distance_stats(df, distances, graph)\n",
    "# print(f'POST: Mean for in-person students is {mean_post:.2f} and standard deviation is {sd_post:.2f}.')"
   ]
  },
  {
   "cell_type": "code",
   "execution_count": null,
   "metadata": {},
   "outputs": [],
   "source": [
    "# import matplotlib.pyplot as plt\n",
    "  \n",
    "# # making a simple plot\n",
    "# x = [1, 2]\n",
    "# means = [mean_pre, mean_post]\n",
    "  \n",
    "# fig, ax = plt.subplots()\n",
    "\n",
    "# # Plot scatter here\n",
    "# ax.bar(x, means)\n",
    "  \n",
    "# sd = [sd_pre, sd_post]\n",
    "  \n",
    "# ax.errorbar(x, means, yerr=sd, fmt=\"o\", color=\"black\")\n",
    "\n",
    "# ax.set_ylabel('Distance')\n",
    "# ax.set_title(\"Mean and Standard Deviation of Maximum Pairwise Distances\")\n",
    "# ax.set_xticks(x, [\"Pre\", \"Post\"])\n",
    "\n",
    "# plt.xticks(rotation=45, ha='right')\n",
    "# plt.show()"
   ]
  }
 ],
 "metadata": {
  "kernelspec": {
   "display_name": "Python3",
   "language": "python",
   "name": "python3"
  },
  "language_info": {
   "codemirror_mode": {
    "name": "ipython",
    "version": 3
   },
   "file_extension": ".py",
   "mimetype": "text/x-python",
   "name": "python",
   "nbconvert_exporter": "python",
   "pygments_lexer": "ipython3",
   "version": "3.12.5"
  },
  "vscode": {
   "interpreter": {
    "hash": "10f855eeeb2ef9c3da2620d7b4e17d02b412f0ef0d073aff49841a941628c765"
   }
  }
 },
 "nbformat": 4,
 "nbformat_minor": 4
}

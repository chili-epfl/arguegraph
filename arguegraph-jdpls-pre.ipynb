{
 "cells": [
  {
   "cell_type": "markdown",
   "metadata": {},
   "source": [
    "# Argue Graph (Pre)\n",
    "\n",
    "## Calculate Matches for Students\n",
    "\n",
    "Students should fill in [this poll](https://forms.gle/tjut8RhJUhzw9Sya9)."
   ]
  },
  {
   "cell_type": "markdown",
   "metadata": {},
   "source": [
    "## Load in data and calculate pairings that maximize distance."
   ]
  },
  {
   "cell_type": "code",
   "execution_count": 4,
   "metadata": {
    "execution": {
     "iopub.execute_input": "2024-10-21T19:38:26.075355Z",
     "iopub.status.busy": "2024-10-21T19:38:26.073536Z",
     "iopub.status.idle": "2024-10-21T19:38:27.878203Z",
     "shell.execute_reply": "2024-10-21T19:38:27.875973Z",
     "shell.execute_reply.started": "2024-10-21T19:38:26.075266Z"
    }
   },
   "outputs": [
    {
     "ename": "KeyError",
     "evalue": "'If you were a school teacher, would you ask students to work in teams? Pick what you might decide and why.'",
     "output_type": "error",
     "traceback": [
      "\u001b[0;31m---------------------------------------------------------------------------\u001b[0m",
      "\u001b[0;31mKeyError\u001b[0m                                  Traceback (most recent call last)",
      "Cell \u001b[0;32mIn[4], line 4\u001b[0m\n\u001b[1;32m      1\u001b[0m \u001b[38;5;28;01mimport\u001b[39;00m \u001b[38;5;21;01mutil\u001b[39;00m \n\u001b[1;32m      3\u001b[0m df \u001b[38;5;241m=\u001b[39m util\u001b[38;5;241m.\u001b[39mload_worksheet(url\u001b[38;5;241m=\u001b[39mutil\u001b[38;5;241m.\u001b[39mPRE_INPERSON_URL)\n\u001b[0;32m----> 4\u001b[0m distances \u001b[38;5;241m=\u001b[39m \u001b[43mutil\u001b[49m\u001b[38;5;241;43m.\u001b[39;49m\u001b[43mcalculate_distances\u001b[49m\u001b[43m(\u001b[49m\u001b[43mdf\u001b[49m\u001b[43m)\u001b[49m\n\u001b[1;32m      5\u001b[0m graph \u001b[38;5;241m=\u001b[39m util\u001b[38;5;241m.\u001b[39mconstruct_graph(distances)\n",
      "File \u001b[0;32m~/arguegraph/util.py:96\u001b[0m, in \u001b[0;36mcalculate_distances\u001b[0;34m(graph)\u001b[0m\n\u001b[1;32m     94\u001b[0m \u001b[38;5;28;01mdef\u001b[39;00m \u001b[38;5;21mcalculate_distances\u001b[39m(graph):\n\u001b[1;32m     95\u001b[0m     \u001b[38;5;66;03m# Assign coordinates\u001b[39;00m\n\u001b[0;32m---> 96\u001b[0m     graph[\u001b[38;5;124m'\u001b[39m\u001b[38;5;124mteam_xy\u001b[39m\u001b[38;5;124m'\u001b[39m] \u001b[38;5;241m=\u001b[39m \u001b[43mgraph\u001b[49m\u001b[43m[\u001b[49m\u001b[38;5;124;43m'\u001b[39;49m\u001b[38;5;124;43mIf you were a school teacher, would you ask students to work in teams? Pick what you might decide and why.\u001b[39;49m\u001b[38;5;124;43m'\u001b[39;49m\u001b[43m]\u001b[49m\u001b[38;5;241m.\u001b[39mapply(process_question_teams)\n\u001b[1;32m     97\u001b[0m     graph[\u001b[38;5;124m'\u001b[39m\u001b[38;5;124msize_xy\u001b[39m\u001b[38;5;124m'\u001b[39m] \u001b[38;5;241m=\u001b[39m graph[\u001b[38;5;124m'\u001b[39m\u001b[38;5;124mIf you would decide anyway to make teams, which size of the teams would you choose?\u001b[39m\u001b[38;5;124m'\u001b[39m]\u001b[38;5;241m.\u001b[39mapply(process_question_size)\n\u001b[1;32m     98\u001b[0m     graph[\u001b[38;5;124m'\u001b[39m\u001b[38;5;124mcomposition_xy\u001b[39m\u001b[38;5;124m'\u001b[39m] \u001b[38;5;241m=\u001b[39m graph[\u001b[38;5;124m'\u001b[39m\u001b[38;5;124mLet’s say that you finally decide to make teams of 2, what would be the best team composition?\u001b[39m\u001b[38;5;124m'\u001b[39m]\u001b[38;5;241m.\u001b[39mapply(process_question_composition)\n",
      "File \u001b[0;32m/opt/jlab-env/lib/python3.12/site-packages/pandas/core/frame.py:4102\u001b[0m, in \u001b[0;36mDataFrame.__getitem__\u001b[0;34m(self, key)\u001b[0m\n\u001b[1;32m   4100\u001b[0m \u001b[38;5;28;01mif\u001b[39;00m \u001b[38;5;28mself\u001b[39m\u001b[38;5;241m.\u001b[39mcolumns\u001b[38;5;241m.\u001b[39mnlevels \u001b[38;5;241m>\u001b[39m \u001b[38;5;241m1\u001b[39m:\n\u001b[1;32m   4101\u001b[0m     \u001b[38;5;28;01mreturn\u001b[39;00m \u001b[38;5;28mself\u001b[39m\u001b[38;5;241m.\u001b[39m_getitem_multilevel(key)\n\u001b[0;32m-> 4102\u001b[0m indexer \u001b[38;5;241m=\u001b[39m \u001b[38;5;28;43mself\u001b[39;49m\u001b[38;5;241;43m.\u001b[39;49m\u001b[43mcolumns\u001b[49m\u001b[38;5;241;43m.\u001b[39;49m\u001b[43mget_loc\u001b[49m\u001b[43m(\u001b[49m\u001b[43mkey\u001b[49m\u001b[43m)\u001b[49m\n\u001b[1;32m   4103\u001b[0m \u001b[38;5;28;01mif\u001b[39;00m is_integer(indexer):\n\u001b[1;32m   4104\u001b[0m     indexer \u001b[38;5;241m=\u001b[39m [indexer]\n",
      "File \u001b[0;32m/opt/jlab-env/lib/python3.12/site-packages/pandas/core/indexes/range.py:417\u001b[0m, in \u001b[0;36mRangeIndex.get_loc\u001b[0;34m(self, key)\u001b[0m\n\u001b[1;32m    415\u001b[0m         \u001b[38;5;28;01mraise\u001b[39;00m \u001b[38;5;167;01mKeyError\u001b[39;00m(key) \u001b[38;5;28;01mfrom\u001b[39;00m \u001b[38;5;21;01merr\u001b[39;00m\n\u001b[1;32m    416\u001b[0m \u001b[38;5;28;01mif\u001b[39;00m \u001b[38;5;28misinstance\u001b[39m(key, Hashable):\n\u001b[0;32m--> 417\u001b[0m     \u001b[38;5;28;01mraise\u001b[39;00m \u001b[38;5;167;01mKeyError\u001b[39;00m(key)\n\u001b[1;32m    418\u001b[0m \u001b[38;5;28mself\u001b[39m\u001b[38;5;241m.\u001b[39m_check_indexing_error(key)\n\u001b[1;32m    419\u001b[0m \u001b[38;5;28;01mraise\u001b[39;00m \u001b[38;5;167;01mKeyError\u001b[39;00m(key)\n",
      "\u001b[0;31mKeyError\u001b[0m: 'If you were a school teacher, would you ask students to work in teams? Pick what you might decide and why.'"
     ]
    }
   ],
   "source": [
    "import util \n",
    "\n",
    "df = util.load_worksheet(url=util.PRE_INPERSON_URL)\n",
    "distances = util.calculate_distances(df)\n",
    "graph = util.construct_graph(distances)"
   ]
  },
  {
   "cell_type": "code",
   "execution_count": null,
   "metadata": {
    "execution": {
     "iopub.status.busy": "2024-10-21T19:38:27.879232Z",
     "iopub.status.idle": "2024-10-21T19:38:27.879786Z",
     "shell.execute_reply": "2024-10-21T19:38:27.879521Z",
     "shell.execute_reply.started": "2024-10-21T19:38:27.879498Z"
    }
   },
   "outputs": [],
   "source": [
    "util.get_distance_plot(df, distances, graph)"
   ]
  },
  {
   "cell_type": "code",
   "execution_count": null,
   "metadata": {
    "execution": {
     "iopub.status.busy": "2024-10-21T19:38:27.882347Z",
     "iopub.status.idle": "2024-10-21T19:38:27.882709Z",
     "shell.execute_reply": "2024-10-21T19:38:27.882551Z",
     "shell.execute_reply.started": "2024-10-21T19:38:27.882535Z"
    }
   },
   "outputs": [],
   "source": [
    "pairs = util.get_max_distance_pairs(df, distances, graph)\n",
    "for p in pairs:\n",
    "    print(f'Pair {p[0]} with {p[1]}')"
   ]
  },
  {
   "cell_type": "code",
   "execution_count": null,
   "metadata": {},
   "outputs": [],
   "source": []
  }
 ],
 "metadata": {
  "kernelspec": {
   "display_name": "Python3",
   "language": "python",
   "name": "python3"
  },
  "language_info": {
   "codemirror_mode": {
    "name": "ipython",
    "version": 3
   },
   "file_extension": ".py",
   "mimetype": "text/x-python",
   "name": "python",
   "nbconvert_exporter": "python",
   "pygments_lexer": "ipython3",
   "version": "3.12.5"
  },
  "vscode": {
   "interpreter": {
    "hash": "10f855eeeb2ef9c3da2620d7b4e17d02b412f0ef0d073aff49841a941628c765"
   }
  }
 },
 "nbformat": 4,
 "nbformat_minor": 4
}

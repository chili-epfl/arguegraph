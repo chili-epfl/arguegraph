{
 "cells": [
  {
   "cell_type": "markdown",
   "metadata": {},
   "source": [
    "# Argue Graph (Pre)\n",
    "\n",
    "## Calculate Matches for Students\n",
    "\n",
    "Students should fill in [this poll](https://forms.gle/tjut8RhJUhzw9Sya9)."
   ]
  },
  {
   "cell_type": "markdown",
   "metadata": {},
   "source": [
    "## Load in data and calculate pairings that maximize distance."
   ]
  },
  {
   "cell_type": "code",
   "execution_count": null,
   "metadata": {},
   "outputs": [],
   "source": [
    "import util \n",
    "\n",
    "df = util.load_worksheet(url=util.PRE_INPERSON_URL)\n",
    "distances = util.calculate_distances(df)\n",
    "graph = util.construct_graph(distances)"
   ]
  },
  {
   "cell_type": "code",
   "execution_count": null,
   "metadata": {},
   "outputs": [],
   "source": [
    "util.get_distance_plot(df, distances, graph)"
   ]
  },
  {
   "cell_type": "code",
   "execution_count": null,
   "metadata": {},
   "outputs": [],
   "source": [
    "pairs = util.get_max_distance_pairs(df, distances, graph)\n",
    "for p in pairs:\n",
    "    print(f'Pair {p[0]} with {p[1]}')"
   ]
  },
  {
   "cell_type": "markdown",
   "metadata": {},
   "source": [
    "# ArgueGraph (Post-Discussion)\n",
    "\n",
    "## Visualize Answers After Discussion\n",
    "\n",
    "Students should fill in [this poll](https://forms.gle/v9omKFBRGHhCABiS8)."
   ]
  },
  {
   "cell_type": "code",
   "execution_count": null,
   "metadata": {},
   "outputs": [],
   "source": [
    "import util\n",
    "pre_df = util.load_worksheet(url=util.PRE_INPERSON_URL)\n",
    "pre_distances = util.calculate_distances(pre_df)\n",
    "pre_graph = util.construct_graph(pre_distances)\n",
    "\n",
    "post_df = util.load_worksheet(url=util.POST_INPERSON_URL)\n",
    "post_distances = util.calculate_distances(post_df)\n",
    "# post_graph = util.construct_graph(post_distances)"
   ]
  },
  {
   "cell_type": "code",
   "execution_count": null,
   "metadata": {},
   "outputs": [],
   "source": [
    "util.get_post_distance_plot(pre_df, pre_distances, pre_graph, post_df)"
   ]
  }
 ],
 "metadata": {
  "kernelspec": {
   "display_name": "Python3",
   "language": "python",
   "name": "python3"
  },
  "language_info": {
   "codemirror_mode": {
    "name": "ipython",
    "version": 3
   },
   "file_extension": ".py",
   "mimetype": "text/x-python",
   "name": "python",
   "nbconvert_exporter": "python",
   "pygments_lexer": "ipython3",
   "version": "3.12.5"
  },
  "vscode": {
   "interpreter": {
    "hash": "10f855eeeb2ef9c3da2620d7b4e17d02b412f0ef0d073aff49841a941628c765"
   }
  }
 },
 "nbformat": 4,
 "nbformat_minor": 4
}

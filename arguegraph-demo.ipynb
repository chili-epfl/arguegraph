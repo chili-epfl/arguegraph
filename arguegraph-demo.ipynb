{
 "cells": [
  {
   "cell_type": "markdown",
   "metadata": {},
   "source": [
    "# Argue Graph\n",
    "\n",
    "## Calculate Matches for Demo Students\n",
    "\n",
    "Demo students should fill in [this poll](https://forms.gle/FXN7JC3FMPhhcUVN7)."
   ]
  },
  {
   "cell_type": "markdown",
   "metadata": {},
   "source": [
    "## Load in data and calculate pairings that maximize distance."
   ]
  },
  {
   "cell_type": "code",
   "execution_count": 1,
   "metadata": {
    "execution": {
     "iopub.execute_input": "2023-10-06T08:53:19.401773Z",
     "iopub.status.busy": "2023-10-06T08:53:19.401491Z",
     "iopub.status.idle": "2023-10-06T08:53:24.500407Z",
     "shell.execute_reply": "2023-10-06T08:53:24.499279Z",
     "shell.execute_reply.started": "2023-10-06T08:53:19.401748Z"
    }
   },
   "outputs": [],
   "source": [
    "import util \n",
    "\n",
    "df = util.load_worksheet(url=util.DEMO_URL)\n",
    "distances = util.calculate_distances(df)\n",
    "graph = util.construct_graph(distances)"
   ]
  },
  {
   "cell_type": "code",
   "execution_count": 3,
   "metadata": {
    "execution": {
     "iopub.execute_input": "2023-10-06T08:53:25.101924Z",
     "iopub.status.busy": "2023-10-06T08:53:25.101532Z",
     "iopub.status.idle": "2023-10-06T08:53:25.245343Z",
     "shell.execute_reply": "2023-10-06T08:53:25.244734Z",
     "shell.execute_reply.started": "2023-10-06T08:53:25.101901Z"
    }
   },
   "outputs": [
    {
     "name": "stderr",
     "output_type": "stream",
     "text": [
      "/Users/richarddavis/miniconda3/envs/arguegraph/lib/python3.11/site-packages/altair/utils/deprecation.py:65: AltairDeprecationWarning: 'selection_multi' is deprecated.  Use 'selection_point'\n",
      "  warnings.warn(message, AltairDeprecationWarning, stacklevel=1)\n"
     ]
    },
    {
     "data": {
      "text/html": [
       "\n",
       "<style>\n",
       "  #altair-viz-792527eee9414cccac8f8a9c3fe5b8d5.vega-embed {\n",
       "    width: 100%;\n",
       "    display: flex;\n",
       "  }\n",
       "\n",
       "  #altair-viz-792527eee9414cccac8f8a9c3fe5b8d5.vega-embed details,\n",
       "  #altair-viz-792527eee9414cccac8f8a9c3fe5b8d5.vega-embed details summary {\n",
       "    position: relative;\n",
       "  }\n",
       "</style>\n",
       "<div id=\"altair-viz-792527eee9414cccac8f8a9c3fe5b8d5\"></div>\n",
       "<script type=\"text/javascript\">\n",
       "  var VEGA_DEBUG = (typeof VEGA_DEBUG == \"undefined\") ? {} : VEGA_DEBUG;\n",
       "  (function(spec, embedOpt){\n",
       "    let outputDiv = document.currentScript.previousElementSibling;\n",
       "    if (outputDiv.id !== \"altair-viz-792527eee9414cccac8f8a9c3fe5b8d5\") {\n",
       "      outputDiv = document.getElementById(\"altair-viz-792527eee9414cccac8f8a9c3fe5b8d5\");\n",
       "    }\n",
       "    const paths = {\n",
       "      \"vega\": \"https://cdn.jsdelivr.net/npm/vega@5?noext\",\n",
       "      \"vega-lib\": \"https://cdn.jsdelivr.net/npm/vega-lib?noext\",\n",
       "      \"vega-lite\": \"https://cdn.jsdelivr.net/npm/vega-lite@5.8.0?noext\",\n",
       "      \"vega-embed\": \"https://cdn.jsdelivr.net/npm/vega-embed@6?noext\",\n",
       "    };\n",
       "\n",
       "    function maybeLoadScript(lib, version) {\n",
       "      var key = `${lib.replace(\"-\", \"\")}_version`;\n",
       "      return (VEGA_DEBUG[key] == version) ?\n",
       "        Promise.resolve(paths[lib]) :\n",
       "        new Promise(function(resolve, reject) {\n",
       "          var s = document.createElement('script');\n",
       "          document.getElementsByTagName(\"head\")[0].appendChild(s);\n",
       "          s.async = true;\n",
       "          s.onload = () => {\n",
       "            VEGA_DEBUG[key] = version;\n",
       "            return resolve(paths[lib]);\n",
       "          };\n",
       "          s.onerror = () => reject(`Error loading script: ${paths[lib]}`);\n",
       "          s.src = paths[lib];\n",
       "        });\n",
       "    }\n",
       "\n",
       "    function showError(err) {\n",
       "      outputDiv.innerHTML = `<div class=\"error\" style=\"color:red;\">${err}</div>`;\n",
       "      throw err;\n",
       "    }\n",
       "\n",
       "    function displayChart(vegaEmbed) {\n",
       "      vegaEmbed(outputDiv, spec, embedOpt)\n",
       "        .catch(err => showError(`Javascript Error: ${err.message}<br>This usually means there's a typo in your chart specification. See the javascript console for the full traceback.`));\n",
       "    }\n",
       "\n",
       "    if(typeof define === \"function\" && define.amd) {\n",
       "      requirejs.config({paths});\n",
       "      require([\"vega-embed\"], displayChart, err => showError(`Error loading script: ${err.message}`));\n",
       "    } else {\n",
       "      maybeLoadScript(\"vega\", \"5\")\n",
       "        .then(() => maybeLoadScript(\"vega-lite\", \"5.8.0\"))\n",
       "        .then(() => maybeLoadScript(\"vega-embed\", \"6\"))\n",
       "        .catch(showError)\n",
       "        .then(() => displayChart(vegaEmbed));\n",
       "    }\n",
       "  })({\"config\": {\"view\": {\"continuousWidth\": 300, \"continuousHeight\": 300}}, \"layer\": [{\"mark\": {\"type\": \"circle\", \"size\": 100}, \"encoding\": {\"color\": {\"field\": \"group\", \"type\": \"nominal\"}, \"tooltip\": [{\"field\": \"Email Address\", \"type\": \"nominal\"}], \"x\": {\"field\": \"x_j\", \"scale\": {\"domain\": [-5, 5]}, \"type\": \"quantitative\"}, \"y\": {\"field\": \"y_j\", \"scale\": {\"domain\": [-7, 5]}, \"type\": \"quantitative\"}}, \"name\": \"view_1\"}, {\"mark\": {\"type\": \"line\"}, \"encoding\": {\"color\": {\"field\": \"group\", \"type\": \"nominal\"}, \"detail\": {\"field\": \"group\", \"type\": \"quantitative\"}, \"tooltip\": [{\"field\": \"Email Address\", \"type\": \"nominal\"}], \"x\": {\"field\": \"x_j\", \"type\": \"quantitative\"}, \"y\": {\"field\": \"y_j\", \"type\": \"quantitative\"}}}], \"data\": {\"name\": \"data-a3a7c41b60995169dad22d11673c07b1\"}, \"height\": 600, \"params\": [{\"name\": \"param_2\", \"select\": {\"type\": \"interval\", \"encodings\": [\"x\", \"y\"]}, \"bind\": \"scales\", \"views\": [\"view_1\"]}], \"width\": 600, \"$schema\": \"https://vega.github.io/schema/vega-lite/v5.8.0.json\", \"datasets\": {\"data-a3a7c41b60995169dad22d11673c07b1\": [{\"index\": 0, \"Timestamp\": \"10/6/2023 10:41:41\", \"Email Address\": \"richard.davis@epfl.ch\", \"If you were a school teacher, would you ask students to work in teams? Pick what you might decide and why.\": \"Yes, it might force them to deepen the contents of my lecture\", \"If you would decide anyway to make teams, which size of the teams would you choose?\": \"Teams of 3, because the third can kind of arbitrate the disagreements between the two other ones, so the team would work better\", \"Let\\u2019s say that you finally decide to make teams of 2, what would be the best team composition?\": \"Two students with different viewpoints so that they produce multiple solutions\", \"If during their teamwork, three students start to argue loudly what would you do?\": \"Ask them to elaborate a list of pros and cons and connect it to what was taught in the last lecture\", \"team_xy\": [2, -2], \"size_xy\": [-1, -1], \"composition_xy\": [1, -2], \"argue_xy\": [0, 2], \"team_x\": 2, \"size_x\": -1, \"composition_x\": 1, \"argue_x\": 0, \"team_y\": -2, \"size_y\": -1, \"composition_y\": -2, \"argue_y\": 2, \"x\": 2, \"y\": -3, \"xi\": \"2-3\", \"x_j\": 1.8269405074421676, \"y_j\": -3.0081297953056803, \"uid\": 0, \"group\": 0.0}, {\"index\": 1, \"Timestamp\": \"10/6/2023 10:41:51\", \"Email Address\": \"rleedvs@yahoo.com\", \"If you were a school teacher, would you ask students to work in teams? Pick what you might decide and why.\": \"No, teamwork takes too much time; I have to move faster in the curriculum\", \"If you would decide anyway to make teams, which size of the teams would you choose?\": \"Teams of 10, because that\\u2019s often the size of the teams they will join later on in the workplace\", \"Let\\u2019s say that you finally decide to make teams of 2, what would be the best team composition?\": \"Two students with different levels, so that one develops the skills of helping other students\", \"If during their teamwork, three students start to argue loudly what would you do?\": \"Nothing, it may force them to deepen their understanding of the task\", \"team_xy\": [-2, 2], \"size_xy\": [3, -2], \"composition_xy\": [2, -2], \"argue_xy\": [2, 2], \"team_x\": -2, \"size_x\": 3, \"composition_x\": 2, \"argue_x\": 2, \"team_y\": 2, \"size_y\": -2, \"composition_y\": -2, \"argue_y\": 2, \"x\": 5, \"y\": 0, \"xi\": \"50\", \"x_j\": 5.053412811771767, \"y_j\": 0.17933482630022984, \"uid\": 1, \"group\": 1.0}, {\"index\": 2, \"Timestamp\": \"10/6/2023 10:42:00\", \"Email Address\": \"richard.lee.davis@gmail.com\", \"If you were a school teacher, would you ask students to work in teams? Pick what you might decide and why.\": \"Yes, even if they won\\u2019t necessarily learn more, they might at least learn to work together\", \"If you would decide anyway to make teams, which size of the teams would you choose?\": \"Teams of 5, so that I can detect which students take leadership\", \"Let\\u2019s say that you finally decide to make teams of 2, what would be the best team composition?\": \"Two students with different viewpoints so that they produce multiple solutions\", \"If during their teamwork, three students start to argue loudly what would you do?\": \"Nothing, I will ask them to less loud then I will check who wins the argumentation\", \"team_xy\": [2, -2], \"size_xy\": [-2, -2], \"composition_xy\": [1, -2], \"argue_xy\": [-2, -2], \"team_x\": 2, \"size_x\": -2, \"composition_x\": 1, \"argue_x\": -2, \"team_y\": -2, \"size_y\": -2, \"composition_y\": -2, \"argue_y\": -2, \"x\": -1, \"y\": -8, \"xi\": \"-1-8\", \"x_j\": -1.2297545149011022, \"y_j\": -8.24155366800737, \"uid\": 2, \"group\": 1.0}, {\"index\": 3, \"Timestamp\": \"10/6/2023 10:42:12\", \"Email Address\": \"rldavis@cs.stanford.edu\", \"If you were a school teacher, would you ask students to work in teams? Pick what you might decide and why.\": \"Yes, it might force them to deepen the contents of my lecture\", \"If you would decide anyway to make teams, which size of the teams would you choose?\": \"Teams of 5, so that I can detect which students take leadership\", \"Let\\u2019s say that you finally decide to make teams of 2, what would be the best team composition?\": \"Two students with a different backgrounds, so that they get used to handle diversity\", \"If during their teamwork, three students start to argue loudly what would you do?\": \"Nothing, it may force them to deepen their understanding of the task\", \"team_xy\": [2, -2], \"size_xy\": [-2, -2], \"composition_xy\": [2, -2], \"argue_xy\": [2, 2], \"team_x\": 2, \"size_x\": -2, \"composition_x\": 2, \"argue_x\": 2, \"team_y\": -2, \"size_y\": -2, \"composition_y\": -2, \"argue_y\": 2, \"x\": 4, \"y\": -4, \"xi\": \"4-4\", \"x_j\": 3.836411757197544, \"y_j\": -3.7413817920129357, \"uid\": 3, \"group\": 0.0}]}}, {\"mode\": \"vega-lite\"});\n",
       "</script>"
      ],
      "text/plain": [
       "alt.LayerChart(...)"
      ]
     },
     "execution_count": 3,
     "metadata": {},
     "output_type": "execute_result"
    }
   ],
   "source": [
    "util.get_distance_plot(df, distances, graph)"
   ]
  },
  {
   "cell_type": "code",
   "execution_count": 4,
   "metadata": {
    "execution": {
     "iopub.execute_input": "2023-10-06T08:53:35.909912Z",
     "iopub.status.busy": "2023-10-06T08:53:35.909575Z",
     "iopub.status.idle": "2023-10-06T08:53:35.917049Z",
     "shell.execute_reply": "2023-10-06T08:53:35.915653Z",
     "shell.execute_reply.started": "2023-10-06T08:53:35.909885Z"
    }
   },
   "outputs": [
    {
     "name": "stdout",
     "output_type": "stream",
     "text": [
      "PRE: Mean for in-person students is 6.12 and standard deviation is 15.07.\n"
     ]
    }
   ],
   "source": [
    "mean_pri, sd_pri = util.get_max_distance_stats(df, distances, graph)\n",
    "print(f'PRE: Mean for in-person students is {mean_pri:.2f} and standard deviation is {sd_pri:.2f}.')"
   ]
  },
  {
   "cell_type": "code",
   "execution_count": 5,
   "metadata": {
    "execution": {
     "iopub.execute_input": "2023-10-06T08:53:37.255884Z",
     "iopub.status.busy": "2023-10-06T08:53:37.255559Z",
     "iopub.status.idle": "2023-10-06T08:53:37.263115Z",
     "shell.execute_reply": "2023-10-06T08:53:37.261550Z",
     "shell.execute_reply.started": "2023-10-06T08:53:37.255858Z"
    }
   },
   "outputs": [
    {
     "name": "stdout",
     "output_type": "stream",
     "text": [
      "Pair richard.davis@epfl.ch with rldavis@cs.stanford.edu\n",
      "Pair rleedvs@yahoo.com with richard.lee.davis@gmail.com\n"
     ]
    }
   ],
   "source": [
    "pairs = util.get_max_distance_pairs(df, distances, graph)\n",
    "for p in pairs:\n",
    "    print(f'Pair {p[0]} with {p[1]}')"
   ]
  }
 ],
 "metadata": {
  "kernelspec": {
   "display_name": "Python 3 (ipykernel)",
   "language": "python",
   "name": "python3"
  },
  "language_info": {
   "codemirror_mode": {
    "name": "ipython",
    "version": 3
   },
   "file_extension": ".py",
   "mimetype": "text/x-python",
   "name": "python",
   "nbconvert_exporter": "python",
   "pygments_lexer": "ipython3",
   "version": "3.11.6"
  },
  "vscode": {
   "interpreter": {
    "hash": "10f855eeeb2ef9c3da2620d7b4e17d02b412f0ef0d073aff49841a941628c765"
   }
  }
 },
 "nbformat": 4,
 "nbformat_minor": 4
}
